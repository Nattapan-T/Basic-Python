{
 "cells": [
  {
   "cell_type": "code",
   "execution_count": 1,
   "metadata": {},
   "outputs": [
    {
     "data": {
      "text/plain": [
       "1"
      ]
     },
     "execution_count": 1,
     "metadata": {},
     "output_type": "execute_result"
    }
   ],
   "source": [
    "import itertools\n",
    "def count_pairs(number_list, target_sum):\n",
    "    result = 0\n",
    "    for i, num in enumerate(number_list):\n",
    "        for j in range(i+1, len(number_list)):\n",
    "            product = num * number_list[j]\n",
    "            if get_sum(product) == target_sum:\n",
    "                result += 1\n",
    "    return result\n",
    "def get_sum(n):\n",
    "    summ = 0\n",
    "    for d in str(n):\n",
    "        summ += int(d)\n",
    "    return summ\n",
    "count_pairs([33,2], 12)"
   ]
  },
  {
   "cell_type": "code",
   "execution_count": 208,
   "metadata": {},
   "outputs": [
    {
     "data": {
      "text/plain": [
       "1"
      ]
     },
     "execution_count": 208,
     "metadata": {},
     "output_type": "execute_result"
    }
   ],
   "source": [
    "summul =[]\n",
    "def count_pairs(number_list, target_sum):\n",
    "    i = 0\n",
    "    e = number_list.pop(0)\n",
    "    while i < len(number_list):\n",
    "        for j in number_list:\n",
    "            summ = 0\n",
    "            for k in str(e * j):\n",
    "                summ += int(k)\n",
    "            summul.append(summ)\n",
    "        e = number_list.pop(0)\n",
    "    result = sum(1 for res in summul if res == target_sum)\n",
    "    return result\n",
    "count_pairs([1,2,3,4,6], 8)    "
   ]
  },
  {
   "cell_type": "code",
   "execution_count": 203,
   "metadata": {},
   "outputs": [
    {
     "data": {
      "text/plain": [
       "1"
      ]
     },
     "execution_count": 203,
     "metadata": {},
     "output_type": "execute_result"
    }
   ],
   "source": [
    "numberList = [1,2,3,4,6]\n",
    "sumMultiplyList = []\n",
    "targetSum = 8\n",
    "\n",
    "i = 0\n",
    "e = numberList.pop(0)\n",
    "while i < len(numberList):\n",
    "    for j in numberList:\n",
    "        tempSum=0\n",
    "        for k in str(e*j):\n",
    "            tempSum += int(k)\n",
    "        sumMultiplyList.append(tempSum)\n",
    "    e = numberList.pop(0)\n",
    "    \n",
    "a = [result for result in sumMultiplyList if result == targetSum]\n",
    "len(a)"
   ]
  },
  {
   "cell_type": "code",
   "execution_count": 41,
   "metadata": {},
   "outputs": [
    {
     "data": {
      "text/plain": [
       "1"
      ]
     },
     "execution_count": 41,
     "metadata": {},
     "output_type": "execute_result"
    }
   ],
   "source": [
    "def count_pairs(number_list, target_sum):\n",
    "    summul = []\n",
    "    i = 0\n",
    "    e = number_list.pop(0)\n",
    "    while i < len(number_list):\n",
    "        for j in number_list:\n",
    "            t = 0\n",
    "            for k in str(e*j):\n",
    "                t += int(k)\n",
    "            summul += t\n",
    "        e = number.pop(0)\n",
    "a = [result for result in sumMultiplyList if result == targetSum]\n",
    "len(a)"
   ]
  },
  {
   "cell_type": "code",
   "execution_count": 216,
   "metadata": {},
   "outputs": [
    {
     "data": {
      "text/plain": [
       "1"
      ]
     },
     "execution_count": 216,
     "metadata": {},
     "output_type": "execute_result"
    }
   ],
   "source": [
    "summulti = []\n",
    "def count_pairs(number_list, target_sum):\n",
    "    i = 0\n",
    "    e = number_list.pop(0)\n",
    "    while i < len(number_list):\n",
    "        for j in number_list:\n",
    "            Sum = 0\n",
    "            for k in str(e*j):\n",
    "                Sum += int(k)\n",
    "            summulti.append(Sum)\n",
    "        e = number_list.pop(0)\n",
    "    result = sum (1 for res in summulti if res == target_sum)\n",
    "    return result\n",
    "count_pairs([1,2,3,4,6], 8)    "
   ]
  },
  {
   "cell_type": "code",
   "execution_count": 3,
   "metadata": {},
   "outputs": [
    {
     "name": "stdout",
     "output_type": "stream",
     "text": [
      "1\n",
      "2\n"
     ]
    }
   ],
   "source": [
    "for k in str(12):\n",
    "    print(k)"
   ]
  },
  {
   "cell_type": "code",
   "execution_count": 4,
   "metadata": {},
   "outputs": [
    {
     "name": "stdout",
     "output_type": "stream",
     "text": [
      "['thisisgood']\n"
     ]
    },
    {
     "data": {
      "text/plain": [
       "0"
      ]
     },
     "execution_count": 4,
     "metadata": {},
     "output_type": "execute_result"
    }
   ],
   "source": [
    "import re\n",
    "def segment (text, dictionary):\n",
    "    words = re.findall(r'\\b\\w+\\b', text) \n",
    "    print(words)\n",
    "    for word in words:\n",
    "        if word.lower() in dictionary:\n",
    "            return 1\n",
    "    return 0\n",
    "segment('thisisgood', ['this','is','good'])"
   ]
  },
  {
   "cell_type": "code",
   "execution_count": 5,
   "metadata": {},
   "outputs": [
    {
     "name": "stdout",
     "output_type": "stream",
     "text": [
      "a\n"
     ]
    },
    {
     "data": {
      "text/plain": [
       "1"
      ]
     },
     "execution_count": 5,
     "metadata": {},
     "output_type": "execute_result"
    }
   ],
   "source": [
    "def segment (text, dictionary):\n",
    "    words = text.lower()\n",
    "    for word in words:\n",
    "        print(word)\n",
    "        if word in dictionary:\n",
    "            return 1\n",
    "    return 0\n",
    "segment('aabbcc', ['a','b','c'])"
   ]
  },
  {
   "cell_type": "code",
   "execution_count": 6,
   "metadata": {},
   "outputs": [
    {
     "name": "stdout",
     "output_type": "stream",
     "text": [
      "True\n"
     ]
    }
   ],
   "source": [
    "\"\"\"def segment (text, dictionary):\n",
    "    start = 0\n",
    "    end = 1\n",
    "    while end <= len(text) :\n",
    "        for word in dictionary:\n",
    "            \n",
    "            if text[start:end] == word:\n",
    "                start = end\n",
    "        end+=1    \n",
    "    if(start == end-1):\n",
    "        print(True)\n",
    "    else:\n",
    "        print(False)\n",
    "segment('thisisgood', ['this','is','good'])"
   ]
  },
  {
   "cell_type": "code",
   "execution_count": 90,
   "metadata": {},
   "outputs": [
    {
     "data": {
      "text/plain": [
       "False"
      ]
     },
     "execution_count": 90,
     "metadata": {},
     "output_type": "execute_result"
    }
   ],
   "source": [
    "\"\"\"\"def segment(text, dictionary):\n",
    "    start = 0\n",
    "    end = 1\n",
    "    while end <= len(text):\n",
    "        word_found = False\n",
    "        for word in dictionary:\n",
    "            if text[start:end] == word:\n",
    "                start = end\n",
    "                word_found = True\n",
    "                break\n",
    "        end += 1\n",
    "\n",
    "    if start == end - 1:\n",
    "        return True\n",
    "    else:\n",
    "        return False\n",
    "segment('abcdef', ['abc','dex','abcd','ef'])"
   ]
  },
  {
   "cell_type": "code",
   "execution_count": 224,
   "metadata": {},
   "outputs": [
    {
     "data": {
      "text/plain": [
       "1"
      ]
     },
     "execution_count": 224,
     "metadata": {},
     "output_type": "execute_result"
    }
   ],
   "source": [
    "def segment(text, dictionary):\n",
    "    n = len(text)\n",
    "    d = [False] * (n +1)\n",
    "    d[0] = True\n",
    "    for i in range (1, n + 1):\n",
    "        for j in range (i-1, -1, -1):\n",
    "            if d[j] and text[j:i] in dictionary:\n",
    "                d[i] = True\n",
    "                break \n",
    "    return int(d[n])\n",
    "segment('thisisgood', ['this','is','good'])"
   ]
  },
  {
   "cell_type": "code",
   "execution_count": 174,
   "metadata": {},
   "outputs": [
    {
     "data": {
      "text/plain": [
       "0"
      ]
     },
     "execution_count": 174,
     "metadata": {},
     "output_type": "execute_result"
    }
   ],
   "source": [
    "\"\"\"\"def segment(text, dictionary):\n",
    "    n = len(text)\n",
    "    d = [False] * (n + 1)\n",
    "    d[0] = True\n",
    "    for i in range (1, n+1):\n",
    "        d[i] = [True for j in range(i - 1, -1,-1) if d[j] and text[j:i] in dictionary] \n",
    "        break\n",
    "    return int(d[n])\n",
    "segment('thisisgood', ['this','is','good'])"
   ]
  },
  {
   "cell_type": "code",
   "execution_count": 219,
   "metadata": {},
   "outputs": [
    {
     "data": {
      "text/plain": [
       "0"
      ]
     },
     "execution_count": 219,
     "metadata": {},
     "output_type": "execute_result"
    }
   ],
   "source": [
    "def segment(text, dictionary):\n",
    "    n = len(text)\n",
    "    d = [False] *(n +1)\n",
    "    d[0] = True\n",
    "    for i in range(1, n+1):\n",
    "        for j in range(i - 1,-1,-1):\n",
    "            if d[j] and text[j:i] in dictionary:\n",
    "                d[i] = True\n",
    "                break\n",
    "    return int(d[n])\n",
    "segment('thisisbad', ['this','is','good'])"
   ]
  },
  {
   "cell_type": "code",
   "execution_count": 307,
   "metadata": {},
   "outputs": [],
   "source": [
    "def segment(text, dictionary):\n",
    "    n = len(text)\n",
    "    d =[False] * (n+1)\n",
    "    d[0] = True\n",
    "    for i in range(1, n+1):\n",
    "        for j in range(i-1, -1, -1):\n",
    "            if d[j] and text[j:i] in dictionary:\n",
    "                d[i] = True\n",
    "    return int(d[n])"
   ]
  },
  {
   "cell_type": "code",
   "execution_count": 308,
   "metadata": {},
   "outputs": [
    {
     "data": {
      "text/plain": [
       "1"
      ]
     },
     "execution_count": 308,
     "metadata": {},
     "output_type": "execute_result"
    }
   ],
   "source": [
    "segment('thisisgood', ['this','is','good'])"
   ]
  },
  {
   "cell_type": "code",
   "execution_count": 309,
   "metadata": {},
   "outputs": [
    {
     "data": {
      "text/plain": [
       "0"
      ]
     },
     "execution_count": 309,
     "metadata": {},
     "output_type": "execute_result"
    }
   ],
   "source": [
    "segment('thisisbad', ['this','is','good'])"
   ]
  },
  {
   "cell_type": "code",
   "execution_count": 310,
   "metadata": {},
   "outputs": [
    {
     "data": {
      "text/plain": [
       "1"
      ]
     },
     "execution_count": 310,
     "metadata": {},
     "output_type": "execute_result"
    }
   ],
   "source": [
    "segment('aabbcc', ['a','b','c'])"
   ]
  },
  {
   "cell_type": "code",
   "execution_count": 311,
   "metadata": {},
   "outputs": [
    {
     "data": {
      "text/plain": [
       "0"
      ]
     },
     "execution_count": 311,
     "metadata": {},
     "output_type": "execute_result"
    }
   ],
   "source": [
    "segment('abcdef', ['abc','dex'])"
   ]
  },
  {
   "cell_type": "code",
   "execution_count": 314,
   "metadata": {},
   "outputs": [
    {
     "data": {
      "text/plain": [
       "0"
      ]
     },
     "execution_count": 314,
     "metadata": {},
     "output_type": "execute_result"
    }
   ],
   "source": [
    "segment('abcdef', ['abc','de','abcd','ef'])"
   ]
  },
  {
   "cell_type": "code",
   "execution_count": 313,
   "metadata": {},
   "outputs": [
    {
     "data": {
      "text/plain": [
       "1"
      ]
     },
     "execution_count": 313,
     "metadata": {},
     "output_type": "execute_result"
    }
   ],
   "source": [
    "segment('test1 test*?', ['test','1 ','*?'])"
   ]
  },
  {
   "cell_type": "code",
   "execution_count": 63,
   "metadata": {},
   "outputs": [
    {
     "data": {
      "text/plain": [
       "False"
      ]
     },
     "execution_count": 63,
     "metadata": {},
     "output_type": "execute_result"
    }
   ],
   "source": [
    "'ac' in 'abc'"
   ]
  },
  {
   "cell_type": "code",
   "execution_count": null,
   "metadata": {},
   "outputs": [],
   "source": [
    "Test case: 1\n",
    "Input: 'thisisgood', ['this','is','good']\n",
    "Expected output: 1\n",
    "Result: 0\n",
    "Wrong Answer\n",
    "-------------------------------\n",
    "\n",
    "Test case: 2\n",
    "Input: 'thisisbad', ['this','is','good']\n",
    "Expected output: 0\n",
    "Result: 0\n",
    "Correct\n",
    "-------------------------------\n",
    "\n",
    "Test case: 3\n",
    "Input: 'aabbcc', ['a','b','c']\n",
    "Expected output: 1\n",
    "Result: 0\n",
    "Wrong Answer\n",
    "-------------------------------\n",
    "\n",
    "Test case: 4\n",
    "Input: 'abcdef', ['abc','dex']\n",
    "Expected output: 0\n",
    "Result: 0\n",
    "Correct\n",
    "-------------------------------\n",
    "\n",
    "Test case: 5\n",
    "Input: 'abcdef', ['abc','dex','abcd','ef']\n",
    "Expected output: 1\n",
    "Result: 0\n",
    "Wrong Answer\n",
    "-------------------------------\n",
    "\n",
    "Test case: 6\n",
    "Input: 'test1 test*?', ['test','1 ','*?']\n",
    "Expected output: 1\n",
    "Result: 1\n",
    "Correct"
   ]
  },
  {
   "cell_type": "code",
   "execution_count": 34,
   "metadata": {},
   "outputs": [
    {
     "data": {
      "text/plain": [
       "1"
      ]
     },
     "execution_count": 34,
     "metadata": {},
     "output_type": "execute_result"
    }
   ],
   "source": [
    "import math\n",
    "def count_perfect_square(numbers):\n",
    "    result = 0\n",
    "    for num in numbers:\n",
    "        sqrt_num = math.sqrt(num)\n",
    "        if sqrt_num.is_integer():\n",
    "            result += 1\n",
    "    return result\n",
    "count_perfect_square([25, 30, 2])"
   ]
  },
  {
   "cell_type": "code",
   "execution_count": 35,
   "metadata": {},
   "outputs": [
    {
     "data": {
      "text/plain": [
       "True"
      ]
     },
     "execution_count": 35,
     "metadata": {},
     "output_type": "execute_result"
    }
   ],
   "source": [
    "(81**0.5)%1==0"
   ]
  },
  {
   "cell_type": "code",
   "execution_count": 212,
   "metadata": {},
   "outputs": [
    {
     "data": {
      "text/plain": [
       "1"
      ]
     },
     "execution_count": 212,
     "metadata": {},
     "output_type": "execute_result"
    }
   ],
   "source": [
    "def count_perfect_square(numbers):\n",
    "    result = len([x for x in numbers if (x**0.5)%1==0])\n",
    "    return result\n",
    "count_perfect_square([25, 30, 2])"
   ]
  },
  {
   "cell_type": "code",
   "execution_count": null,
   "metadata": {},
   "outputs": [],
   "source": [
    "Draft = lambda x : (x**0.5) %1 == 0\n",
    "def count_perfect_square(numbers):\n",
    "    return len([x for x in numbers if Draft(x)])\n",
    "count_perfect_square([25, 30, 2])"
   ]
  },
  {
   "cell_type": "code",
   "execution_count": 194,
   "metadata": {},
   "outputs": [
    {
     "data": {
      "text/plain": [
       "3"
      ]
     },
     "execution_count": 194,
     "metadata": {},
     "output_type": "execute_result"
    }
   ],
   "source": [
    "def count_perfect_square(numbers):\n",
    "    return len([x for x in numbers if (x ** 0.5)%1 == 0])\n",
    "count_perfect_square([81, 4, 1, 3, 2])"
   ]
  },
  {
   "cell_type": "code",
   "execution_count": 239,
   "metadata": {},
   "outputs": [
    {
     "data": {
      "text/plain": [
       "2"
      ]
     },
     "execution_count": 239,
     "metadata": {},
     "output_type": "execute_result"
    }
   ],
   "source": [
    "#ข้อสามมิ้ว\n",
    "def count_perfect_square(numbers):\n",
    "    ans = 0\n",
    "    e = numbers.pop(0)\n",
    "    while 0 < len(numbers):\n",
    "        for j in numbers:\n",
    "            if ((e + j)**0.5) % 1 == 0:\n",
    "                ans += 1\n",
    "        e = numbers.pop(0)\n",
    "    return ans\n",
    "count_perfect_square([2,4,1,80,1])"
   ]
  },
  {
   "cell_type": "code",
   "execution_count": 251,
   "metadata": {},
   "outputs": [
    {
     "data": {
      "text/plain": [
       "1"
      ]
     },
     "execution_count": 251,
     "metadata": {},
     "output_type": "execute_result"
    }
   ],
   "source": [
    "def count_perfect_square(numbers):\n",
    "    result = sum(1 for i in range(len(numbers) - 1) for j in numbers[i + 1:] if ((numbers[i] + j) ** 0.5) % 1 == 0)\n",
    "    return result\n",
    "count_perfect_square([2,4,1,80])"
   ]
  },
  {
   "cell_type": "code",
   "execution_count": 257,
   "metadata": {},
   "outputs": [
    {
     "data": {
      "text/plain": [
       "2"
      ]
     },
     "execution_count": 257,
     "metadata": {},
     "output_type": "execute_result"
    }
   ],
   "source": [
    "def count_perfect_square(numbers):\n",
    "    result = 0\n",
    "    for i in range(len(numbers)-1):\n",
    "        for j in numbers[i + 1:]:\n",
    "            if ((numbers[i] + j)**0.5)%1 == 0:\n",
    "                result += 1\n",
    "    return result\n",
    "count_perfect_square([2,4,1,80,1])"
   ]
  },
  {
   "cell_type": "code",
   "execution_count": 320,
   "metadata": {},
   "outputs": [
    {
     "data": {
      "text/plain": [
       "1"
      ]
     },
     "execution_count": 320,
     "metadata": {},
     "output_type": "execute_result"
    }
   ],
   "source": [
    "def count_perfect_square(numbers):\n",
    "    result = sum (1 for i in range(len(numbers)-1) for j in numbers[i+1:] if (numbers[i]+ j)**0.5 %1 == 0)\n",
    "    return result\n",
    "count_perfect_square([2,4,80,1])"
   ]
  },
  {
   "cell_type": "code",
   "execution_count": 236,
   "metadata": {},
   "outputs": [
    {
     "data": {
      "text/plain": [
       "1"
      ]
     },
     "execution_count": 236,
     "metadata": {},
     "output_type": "execute_result"
    }
   ],
   "source": [
    "#ข้อสี่มิ้ว\n",
    "def count_unque_ascending_numbers(stream):\n",
    "    num = \"0123456789\"\n",
    "    Set = set()\n",
    "    tempStr = \"\"\n",
    "    for c in stream:\n",
    "        if c in num:\n",
    "            tempStr += c\n",
    "        elif tempStr != \"\":\n",
    "            Set.add(tempStr)\n",
    "            tempStr = \"\"\n",
    "    if tempStr !=\"\":\n",
    "        Set.add(tempStr)\n",
    "        tempStr = \"\"\n",
    "    ans = 0\n",
    "    for num in Set:\n",
    "        accend = True\n",
    "        prev = -1\n",
    "        for digit in num:\n",
    "            if (int(digit) <= prev):\n",
    "                accend = False\n",
    "                break\n",
    "            else:\n",
    "                prev = int(digit)\n",
    "        if accend:\n",
    "            ans += 1\n",
    "    return ans\n",
    "count_unque_ascending_numbers('fahsai123zy432jkjkl123ioo99')"
   ]
  },
  {
   "cell_type": "code",
   "execution_count": 300,
   "metadata": {},
   "outputs": [
    {
     "data": {
      "text/plain": [
       "3"
      ]
     },
     "execution_count": 300,
     "metadata": {},
     "output_type": "execute_result"
    }
   ],
   "source": [
    "def count_unque_ascending_numbers(stream):\n",
    "    unque = set()\n",
    "    n = \"\"\n",
    "    for c in stream:\n",
    "        if \"0\" <= c <= \"9\":\n",
    "            n += 1\n",
    "        elif n:\n",
    "            unque.add(n)\n",
    "            n = \"\"\n",
    "    if n:\n",
    "        unque.add(n)\n",
    "    result = sum([1 for num in unque if all (int(digit)) <= int(nextdigit) for digit, nextdigit in zip(num, num[1:])])\n",
    "    return result\n",
    "count_unique_ascending_numbers('fahs567ai0123zy432jkjkl123i567oo899')    "
   ]
  },
  {
   "cell_type": "code",
   "execution_count": null,
   "metadata": {},
   "outputs": [],
   "source": [
    "summulti = []\n",
    "def count_pairs(number_list, target_sum):\n",
    "    i = 0\n",
    "    e = number_list.pop(0)\n",
    "    while i < len(number_list):\n",
    "        for j in number_list:\n",
    "            Sum = 0\n",
    "            for k in str(e*j):\n",
    "                Sum += int(k)\n",
    "            summulti.append(Sum)\n",
    "        e = number_list.pop(0)\n",
    "    result = sum (1 for res in summulti if res == target_sum)\n",
    "    return result\n",
    "count_pairs([1,2,3,4,6], 8)    "
   ]
  },
  {
   "cell_type": "code",
   "execution_count": null,
   "metadata": {},
   "outputs": [],
   "source": [
    "def segment(text, dictionary):\n",
    "    n = len(text)\n",
    "    d =[False] * (n+1)\n",
    "    d[0] = True\n",
    "    for i in range(1, n+1):\n",
    "        for j in range(i-1, -1, -1):\n",
    "            if d[j] and text[j:i] in dictionary:\n",
    "                d[i] = True\n",
    "    return int(d[n])"
   ]
  },
  {
   "cell_type": "code",
   "execution_count": null,
   "metadata": {},
   "outputs": [],
   "source": [
    "def count_perfect_square(numbers):\n",
    "    result = sum (1 for i in range(len(numbers)-1) for j in numbers[i+1:] if (numbers[i]+ j)**0.5 %1 == 0)\n",
    "    return result\n",
    "count_perfect_square([2,4,80,1])"
   ]
  },
  {
   "cell_type": "code",
   "execution_count": null,
   "metadata": {},
   "outputs": [],
   "source": [
    "def count_pairs(number_list, power, distance):\n",
    "\tresult = 0\n",
    "\tfor i in range (len(number_list)):\n",
    "\t\tfor j in range (i+1, len(number_list)):\n",
    "\t\t\tnum1 = number_list[i]\n",
    "\t\t\tnum2 = number_list[j]\n",
    "\t\t\tif (num1 % power == 0 or num2 % power == 0) and abs(num1 ** power - num2 ** power) <= distance:\n",
    "\t\t\t\tresult += 1\n",
    "\treturn result\n",
    "1.\n",
    "Problem 1\n",
    "โจทย์:\n",
    "จงเขียนฟังก์ชันชื่อว่า count_pairs ที่รับอินพุตดังต่อไปนี้ (ตามลำดับ):\n",
    "\n",
    " • number_list: list ของจำนวนเต็มบวก\n",
    " • power: เลขชี้กำลัง (มีค่ามากกว่า 0)\n",
    " • distance: ระยะห่าง (มีค่ามากกว่าหรือเท่ากับ 0)\n",
    "\n",
    "แล้วทำการคำนวณหาจำนวนคู่ของตัวเลขที่ปรากฏใน number_list โดยนิยามว่าเลขจำนวนเต็มสองตัวจะถือว่าเป็นคู่กันก็ต่อเมื่อ\n",
    "  1. มีเลขตัวใดตัวหนึ่งหารด้วย power ลงตัว\n",
    "  2. ผลลัพธ์จากการยกกำลังเลขแต่ละตัวด้วย power ได้ค่าที่ห่างกันไม่เกิน distance\n",
    "\n",
    "ยกตัวอย่างเช่น ถ้าหาก distance = 200 และ power = 3 แล้ว\n",
    "  • 2 และ 3 จะเป็นคู่กัน เพราะเมื่อยกกำลัง 3 แล้วจะได้ผลลัพธ์เท่ากับ 8 และ 27 ซึ่งมีค่าห่างกัน\n",
    "    ไม่เกิน 200 และ 3 นั้นหารด้วย 3 (power) ลงตัว\n",
    "  • 4 และ 6 จะเป็นคู่กัน เพราะเมื่อยกกำลัง 3 แล้วจะได้ผลลัพธ์เท่ากับ 64 และ 216 ซึ่งมีค่าห่างกัน\n",
    "    ไม่เกิน 200 และ 6 นั้นหารด้วย 3 ลงตัว\n",
    "  • 5 และ 10 จะไม่เป็นคู่กัน เพราะเมื่อยกกำลัง 3 แล้วจะได้ผลลัพธ์เท่ากับ 125 และ 1000 ซึ่งมีค่า\n",
    "    ห่างกันเกิน 200\n",
    "  • 7 และ 8 จะไม่เป็นคู่กัน เพราะต่างก็ถูกหารด้วย 3 ไม่ลงตัวทั้งคู่\n",
    "\n",
    "ตัวอย่าง count_pairs([1, 2, 3, 4, 6, 10], 3, 200) จะให้คำตอบว่า 5 เพราะมีตัวเลขที่เป็นคู่กัน 5 คู่\n",
    "นั่นคือ (1, 3), (2, 3), (3, 4), (3, 6), (4, 6)\n",
    " \n",
    "===== Shown =====\n",
    "[25] : ([1,2,3,4,6,10], 3, 200)=> 5\n",
    "[25] : ([5, 1, 7, 4, 10, 12, 8], 2, 400) => 18\n",
    "[25] : ([10, 20, 40, 30], 2, 700) => 3\n",
    "[25] : ([30, 40, 50, 4, 6, 9, 11], 3, 1000) => 4"
   ]
  },
  {
   "cell_type": "code",
   "execution_count": null,
   "metadata": {},
   "outputs": [],
   "source": [
    "โจทย์ Efficiency code:\n",
    "ข้อนี้วัดทักษะในการเขียนประสิทธิภาพที่สุด เกรดที่ได้รับจะขึ้นอยู่กับความเร็วในการทำงานของโค้ด \n",
    "\n",
    "จงเขียนฟังก์ชันชื่อว่า count_perfect_square ที่รับอินพุตดังต่อไปนี้:\n",
    "  1. list ของตัวเลขจำนวนเต็มบวกหรือศูนย์ ที่ไม่ซ้ำ ชื่อว่า numbers\n",
    "แล้วนับจำนวนคู่ของตัวเลขใน array ที่มีผลบวกเป็น perfect square\n",
    "\n",
    "โดย perfect square คือตัวเลขจำนวนเต็มที่ได้จากการยกกำลังสองเลขจำนวนเต็มตัวใด ๆ ฟังก์ชันนี้ควรคืนค่าคำตอบเป็น integer (จำนวนคู่)\n",
    "  ตัวอย่างของ perfect square \n",
    "  • 1 = 1 ยกกำลัง 2\n",
    "  • 4 = 2 ยกกำลัง 2\n",
    "  • 81 = 9 ยกกำลัง 2\n",
    "  • 256 = 16 ยกกำลัง 2\n",
    " \n",
    "ตัวอย่าง:\n",
    " • numbers = [1, 3, 8] คำตอบ 2 (คู่) เนื่องจาก 1+3 = 4 และ 1+8 = 9\n",
    " • numbers = [8, 2, 5, 11] คำตอบ 1 (คู่) เนื่องจาก 5+11 = 16\n",
    " • numbers = [1, 2, 3, 4, 5, 6, 7, 8, 9, 10] คำตอบ 7 (คู่) เนื่องจาก 1+3 = 4, 4+5 = 9, 3+6 = 9, 2+7 = 9, 1+8 = 9, 6+10 = 16, 7+9 = 16\n",
    "===== Shown =====\n",
    " \n",
    "([10, 30, 40]) => 0\n",
    "([1, 2, 3]) => 1\n",
    "([10, 20, 44, 54, 128, 2]) => 2\n",
    "([2, 4, 8, 16, 32, 64, 128, 256, 512, 1024]) => 3"
   ]
  },
  {
   "cell_type": "code",
   "execution_count": null,
   "metadata": {},
   "outputs": [],
   "source": [
    "4.\n",
    "Problem 4\n",
    "โจทย์:\n",
    "จงเขียนฟังก์ชันชื่อว่า count_unique_ascending_numbers ที่รับตัวแปร string ชื่อว่า stream ที่ประกอบไปด้วยตัวอักษรภาษาอังกฤษและตัวเลข\n",
    "แล้วทำการนับจำนวนตัวเลขที่เป็น “ascending number” ที่มีค่าเชิงตัวเลขไม่ซ้ำกันที่ปรากฏใน stream\n",
    "โดยนิยามว่า ตัวเลขจำนวนเต็มที่ไม่ติดลบจะนับว่าเป็น ascending number ก็ต่อเมื่อเลขในแต่ละหลักจากซ้ายไปขวามีค่าเพิ่มขึ้นเสมอ (เช่น 13569)\n",
    "ตัวอย่าง:\n",
    "stream = \"123ab45z\": คำตอบคือ 2 เพราะมีตัวเลขที่ปรากฏสองจำนวนคือ 123 และ 45 ซึ่งเป็น ascending number ทั้งคู่\n",
    "stream = \"321ab45z\": คำตอบคือ 1 เพราะมีตัวเลขที่เป็น ascending number คือ 45 ตัวเลข 321 ไม่นับว่าเป็น ascending number เพราะเลขหลักซ้ายสุด (3) มีค่ามากกว่าเลขหลักถัดไป (2)\n",
    "stream = \"894x67hello12yy67\": คำตอบคือ 2 เพราะมีตัวเลข ascending number สองจำนวนคือ 67 และ 12 (นับ 67 แค่ครั้งเดียวเพราะมีค่าเท่ากัน) 894 ไม่ใช่ ascending number เพราะเลขหลักที่สอง (9) มีค่ามากกว่าเลขหลักถัดไป (4)\n",
    "stream = \"4689\": คำตอบคือ 1 เพราะมีตัวเลขปรากฏจำนวนเดียวคือ 4689 ซึ่งเป็น ascending number\n",
    " \n",
    "===== Shown =====\n",
    "[25] : (\"123ab45z\") => 2\n",
    "[25] : (\"321ab45z\") => 1\n",
    "[25] : (\"894x67hello12yy67\") => 2\n",
    "[25] : (\"4689\") => 1"
   ]
  },
  {
   "cell_type": "code",
   "execution_count": 333,
   "metadata": {},
   "outputs": [],
   "source": [
    "def count_unique_ascending_numbers(stream):\n",
    "\t#Write your code here\n",
    "    unique = set()\n",
    "    n = \"\"\n",
    "    for c in stream:\n",
    "        if \"0\" <= c <= \"9\":\n",
    "            n += c\n",
    "        elif n:\n",
    "            unique.add(int(n))\n",
    "            n = \"\"\n",
    "    if n:\n",
    "        unique.add(int(n))\n",
    "    \n",
    "    result = sum(1 for num in unique if all(int(digit) <= int(nextdigit) for digit, nextdigit in zip(str(num), str(num)[1:])))\n",
    "    return result"
   ]
  },
  {
   "cell_type": "code",
   "execution_count": 4,
   "metadata": {},
   "outputs": [
    {
     "name": "stdout",
     "output_type": "stream",
     "text": [
      "4.2\n"
     ]
    }
   ],
   "source": [
    "#2 ค.สูงระดับน้ำจากจุดต่ำสุด\n",
    "def find_water_level(rainfall, heights):\n",
    "    min_height = min(heights)\n",
    "    water_level = min_height + (rainfall / len(heights))\n",
    "    return water_level \n",
    "water_level(11, [3, 5, 4, 5, 2])"
   ]
  },
  {
   "cell_type": "code",
   "execution_count": 5,
   "metadata": {},
   "outputs": [
    {
     "name": "stdout",
     "output_type": "stream",
     "text": [
      "4.2\n"
     ]
    }
   ],
   "source": [
    "def find_water_level(rainfall, heights):\n",
    "    min_height = min(heights)\n",
    "    water_level = min_height + (rainfall / len(heights))\n",
    "    return water_level\n",
    "result = find_water_level(11, [3, 5, 4, 5, 2])\n",
    "print(result)"
   ]
  },
  {
   "cell_type": "code",
   "execution_count": 8,
   "metadata": {},
   "outputs": [
    {
     "data": {
      "text/plain": [
       "6"
      ]
     },
     "execution_count": 8,
     "metadata": {},
     "output_type": "execute_result"
    }
   ],
   "source": [
    "def calulate_waterlevel(rainfall, height):\n",
    "    height.sort()\n",
    "    waterlevel = height[1]  \n",
    "    n = len(height)\n",
    "    i = 0\n",
    "    while i < n:\n",
    "        diff = height[i] - height[1]\n",
    "        if waterlevel >= diff * (i+1):\n",
    "            waterlevel -= diff * (i+1)\n",
    "        else:\n",
    "            waterlevel += rainfall / (i + 1)  \n",
    "            rainfall = 0\n",
    "        i += 1\n",
    "    if rainfall > 0:\n",
    "        waterlevel += rainfall / n\n",
    "    return round(waterlevel, 2)\n",
    "calculate_water_level(5, [1, 4, 3, 6])"
   ]
  },
  {
   "cell_type": "code",
   "execution_count": 13,
   "metadata": {},
   "outputs": [
    {
     "name": "stdout",
     "output_type": "stream",
     "text": [
      "[0, 2, 0, 1, 1]\n"
     ]
    }
   ],
   "source": [
    "def find_suspicious_levels(n, room_sequence):\n",
    "    level_array = [0] * (n + 2)\n",
    "    ans_array = [0] * n\n",
    "\n",
    "    for i in range(len(room_sequence)):\n",
    "        index = room_sequence[i]\n",
    "\n",
    "        if level_array[index] == 0:\n",
    "            ans_array[i] = 0\n",
    "        if level_array[index + 1] != 0:\n",
    "            ans_array[i] = 1\n",
    "        if level_array[index + 1] != 0 and all(x == 0 for x in level_array[1:index]):\n",
    "            ans_array[i] = 2\n",
    "\n",
    "        level_array[index] = 1\n",
    "        if index + 1 < len(level_array):\n",
    "            level_array[index + 1] = 1\n",
    "\n",
    "    return ans_array\n",
    "\n",
    "\n",
    "print(find_suspicious_levels(5, [5, 4, 1, 3, 2]))"
   ]
  },
  {
   "cell_type": "code",
   "execution_count": null,
   "metadata": {},
   "outputs": [],
   "source": []
  },
  {
   "cell_type": "code",
   "execution_count": null,
   "metadata": {},
   "outputs": [],
   "source": []
  },
  {
   "cell_type": "code",
   "execution_count": null,
   "metadata": {},
   "outputs": [],
   "source": []
  }
 ],
 "metadata": {
  "kernelspec": {
   "display_name": "python36",
   "language": "python",
   "name": "python36"
  },
  "language_info": {
   "codemirror_mode": {
    "name": "ipython",
    "version": 3
   },
   "file_extension": ".py",
   "mimetype": "text/x-python",
   "name": "python",
   "nbconvert_exporter": "python",
   "pygments_lexer": "ipython3",
   "version": "3.6.10"
  }
 },
 "nbformat": 4,
 "nbformat_minor": 4
}
