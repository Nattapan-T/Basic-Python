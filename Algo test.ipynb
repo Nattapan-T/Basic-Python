{
 "cells": [
  {
   "cell_type": "code",
   "execution_count": 17,
   "metadata": {},
   "outputs": [
    {
     "data": {
      "text/plain": [
       "5702887"
      ]
     },
     "execution_count": 17,
     "metadata": {},
     "output_type": "execute_result"
    }
   ],
   "source": [
    "#1\n",
    "def count_way(n):\n",
    "    if n == 0:\n",
    "        return 0\n",
    "    elif n == 1:\n",
    "        return 1\n",
    "    elif n == 2:\n",
    "        return 2\n",
    "    else:\n",
    "        return count_way(n - 1) + count_way(n - 2)\n",
    "count_way(33)"
   ]
  },
  {
   "cell_type": "code",
   "execution_count": 65,
   "metadata": {},
   "outputs": [
    {
     "data": {
      "text/plain": [
       "70330367711422815821835254877183549770181269836358732742604905087154537118196933579742249494562611733487750449241765991088186363265450223647106012053374121273867339111198139373125598767690091902245245323403501"
      ]
     },
     "execution_count": 65,
     "metadata": {},
     "output_type": "execute_result"
    }
   ],
   "source": [
    "#1\n",
    "def dung(n):\n",
    "    D = [0] * (n+1)\n",
    "    return count_way(n)\n",
    "def count_way(n):\n",
    "    if n == 0:\n",
    "        return 0\n",
    "    elif n == 1:\n",
    "        return 1\n",
    "    elif n == 2:\n",
    "        return 2\n",
    "    else:\n",
    "        if D[n]:\n",
    "            return D[n]\n",
    "        D[n] = count_way(n - 1) + count_way(n - 2)\n",
    "        return D[n]\n",
    "dung(1000)"
   ]
  },
  {
   "cell_type": "code",
   "execution_count": 667,
   "metadata": {},
   "outputs": [
    {
     "data": {
      "text/plain": [
       "70330367711422815821835254877183549770181269836358732742604905087154537118196933579742249494562611733487750449241765991088186363265450223647106012053374121273867339111198139373125598767690091902245245323403501"
      ]
     },
     "execution_count": 667,
     "metadata": {},
     "output_type": "execute_result"
    }
   ],
   "source": [
    "#1 \n",
    "#f(n) = f(n - 1) + f(n - 2)\n",
    "def count_way(n):\n",
    "    d = [0] * (n + 1)\n",
    "    d[0] = 0\n",
    "    d[1] = 1\n",
    "    d[2] = 2\n",
    "    for i in range (3, n + 1):\n",
    "        d[i] = d[i-1] + d[i-2]\n",
    "    return d[n]\n",
    "count_way(1000)"
   ]
  },
  {
   "cell_type": "code",
   "execution_count": 54,
   "metadata": {},
   "outputs": [
    {
     "data": {
      "text/plain": [
       "573147844013817084101"
      ]
     },
     "execution_count": 54,
     "metadata": {},
     "output_type": "execute_result"
    }
   ],
   "source": [
    "#1\n",
    "def count_way(n):\n",
    "    if n == 0:\n",
    "        return 0\n",
    "    elif n == 1:\n",
    "        return 1\n",
    "    cur =1\n",
    "    prev =0\n",
    "    for i in range (n):\n",
    "        cur, prev = cur + prev, cur\n",
    "    return cur\n",
    "count_way(100)"
   ]
  },
  {
   "cell_type": "code",
   "execution_count": 368,
   "metadata": {},
   "outputs": [
    {
     "data": {
      "text/plain": [
       "3.75"
      ]
     },
     "execution_count": 368,
     "metadata": {},
     "output_type": "execute_result"
    }
   ],
   "source": [
    "def water_level(rainfall, height):\n",
    "    sum_height = sum(height)\n",
    "    min_height = min(height)\n",
    "    water_level = (rainfall + sum_height) / len(height) - min_height\n",
    "    return water_level\n",
    "water_level(5, [1, 4, 3, 6])"
   ]
  },
  {
   "cell_type": "code",
   "execution_count": 369,
   "metadata": {},
   "outputs": [
    {
     "ename": "KeyboardInterrupt",
     "evalue": "",
     "output_type": "error",
     "traceback": [
      "\u001b[0;31m---------------------------------------------------------------------------\u001b[0m",
      "\u001b[0;31mKeyboardInterrupt\u001b[0m                         Traceback (most recent call last)",
      "\u001b[0;32m<ipython-input-369-f3148680d795>\u001b[0m in \u001b[0;36m<module>\u001b[0;34m\u001b[0m\n\u001b[1;32m      7\u001b[0m         \u001b[0mwater_level\u001b[0m \u001b[0;34m-=\u001b[0m \u001b[0mheight\u001b[0m\u001b[0;34m[\u001b[0m\u001b[0mi\u001b[0m\u001b[0;34m]\u001b[0m\u001b[0;34m\u001b[0m\u001b[0;34m\u001b[0m\u001b[0m\n\u001b[1;32m      8\u001b[0m     \u001b[0;32mreturn\u001b[0m \u001b[0mwater_level\u001b[0m\u001b[0;34m\u001b[0m\u001b[0;34m\u001b[0m\u001b[0m\n\u001b[0;32m----> 9\u001b[0;31m \u001b[0mwater_level\u001b[0m\u001b[0;34m(\u001b[0m\u001b[0;36m5\u001b[0m\u001b[0;34m,\u001b[0m \u001b[0;34m[\u001b[0m\u001b[0;36m1\u001b[0m\u001b[0;34m,\u001b[0m \u001b[0;36m4\u001b[0m\u001b[0;34m,\u001b[0m \u001b[0;36m3\u001b[0m\u001b[0;34m,\u001b[0m \u001b[0;36m6\u001b[0m\u001b[0;34m]\u001b[0m\u001b[0;34m)\u001b[0m\u001b[0;34m\u001b[0m\u001b[0;34m\u001b[0m\u001b[0m\n\u001b[0m",
      "\u001b[0;32m<ipython-input-369-f3148680d795>\u001b[0m in \u001b[0;36mwater_level\u001b[0;34m(rainfall, height)\u001b[0m\n\u001b[1;32m      5\u001b[0m     \u001b[0mmin_height\u001b[0m \u001b[0;34m=\u001b[0m \u001b[0mmin\u001b[0m\u001b[0;34m(\u001b[0m\u001b[0mheight\u001b[0m\u001b[0;34m)\u001b[0m\u001b[0;34m\u001b[0m\u001b[0;34m\u001b[0m\u001b[0m\n\u001b[1;32m      6\u001b[0m     \u001b[0;32mwhile\u001b[0m \u001b[0mwater_level\u001b[0m \u001b[0;34m<\u001b[0m \u001b[0mheight\u001b[0m\u001b[0;34m[\u001b[0m\u001b[0mi\u001b[0m\u001b[0;34m]\u001b[0m\u001b[0;34m:\u001b[0m\u001b[0;34m\u001b[0m\u001b[0;34m\u001b[0m\u001b[0m\n\u001b[0;32m----> 7\u001b[0;31m         \u001b[0mwater_level\u001b[0m \u001b[0;34m-=\u001b[0m \u001b[0mheight\u001b[0m\u001b[0;34m[\u001b[0m\u001b[0mi\u001b[0m\u001b[0;34m]\u001b[0m\u001b[0;34m\u001b[0m\u001b[0;34m\u001b[0m\u001b[0m\n\u001b[0m\u001b[1;32m      8\u001b[0m     \u001b[0;32mreturn\u001b[0m \u001b[0mwater_level\u001b[0m\u001b[0;34m\u001b[0m\u001b[0;34m\u001b[0m\u001b[0m\n\u001b[1;32m      9\u001b[0m \u001b[0mwater_level\u001b[0m\u001b[0;34m(\u001b[0m\u001b[0;36m5\u001b[0m\u001b[0;34m,\u001b[0m \u001b[0;34m[\u001b[0m\u001b[0;36m1\u001b[0m\u001b[0;34m,\u001b[0m \u001b[0;36m4\u001b[0m\u001b[0;34m,\u001b[0m \u001b[0;36m3\u001b[0m\u001b[0;34m,\u001b[0m \u001b[0;36m6\u001b[0m\u001b[0;34m]\u001b[0m\u001b[0;34m)\u001b[0m\u001b[0;34m\u001b[0m\u001b[0;34m\u001b[0m\u001b[0m\n",
      "\u001b[0;31mKeyboardInterrupt\u001b[0m: "
     ]
    }
   ],
   "source": [
    "def water_level(rainfall, height):\n",
    "    height.sort()\n",
    "    water_level = 0\n",
    "    sum_height = sum(height)\n",
    "    min_height = min(height)\n",
    "    while water_level < height[i]:\n",
    "        water_level -= height[i]\n",
    "    return water_level\n",
    "water_level(5, [1, 4, 3, 6])"
   ]
  },
  {
   "cell_type": "code",
   "execution_count": 366,
   "metadata": {},
   "outputs": [
    {
     "data": {
      "text/plain": [
       "3.33"
      ]
     },
     "execution_count": 366,
     "metadata": {},
     "output_type": "execute_result"
    }
   ],
   "source": [
    "def cal_waterlevel(rainfall, height):\n",
    "    height.sort()\n",
    "    wlevel = height[0]\n",
    "    n = len(height)\n",
    "    i = 0\n",
    "    while i < n:\n",
    "        dif = height[i] - height[0]\n",
    "        if rainfall >= dif * (i+1):\n",
    "            rainfall -= dif * (i+1)\n",
    "            wlevel = height[i]\n",
    "        else:\n",
    "            wlevel += rainfall / (i + 1)\n",
    "            rainfall = 0\n",
    "            break\n",
    "        i += 1\n",
    "    if rainfall > 0:\n",
    "        wlevel += rainfall / n\n",
    "\n",
    "    return round(wlevel, 2)  \n",
    "cal_waterlevel(5, [1, 4, 3, 6])"
   ]
  },
  {
   "cell_type": "code",
   "execution_count": 786,
   "metadata": {},
   "outputs": [
    {
     "data": {
      "text/plain": [
       "4.0"
      ]
     },
     "execution_count": 786,
     "metadata": {},
     "output_type": "execute_result"
    }
   ],
   "source": [
    "#2\n",
    "def cal_waterlevel(rainfall, height):\n",
    "    height.sort()\n",
    "    wlevel = 0\n",
    "    n = len(height)\n",
    "    i = 1\n",
    "    while i < n:\n",
    "        dif = height[i] - height[i-1]\n",
    "        if rainfall >= dif * i:\n",
    "            rainfall -= dif * i\n",
    "            wlevel += dif\n",
    "        else:\n",
    "            wlevel += rainfall / i \n",
    "            rainfall = 0\n",
    "            break\n",
    "        i += 1\n",
    "    \n",
    "    if rainfall > 0:\n",
    "        wlevel += rainfall / n\n",
    "\n",
    "    return round(wlevel, 2) \n",
    "cal_waterlevel(11,[3, 5, 4, 5, 2])"
   ]
  },
  {
   "cell_type": "code",
   "execution_count": 316,
   "metadata": {},
   "outputs": [
    {
     "data": {
      "text/plain": [
       "[2, 4, 4, 4, 4]"
      ]
     },
     "execution_count": 316,
     "metadata": {},
     "output_type": "execute_result"
    }
   ],
   "source": [
    "#3\n",
    "def find_water_levels(walls):\n",
    "    water_levels = []\n",
    "    current_max = 0\n",
    "\n",
    "    for height in walls:\n",
    "        if height > current_max:\n",
    "            current_max = height\n",
    "        water_levels.append(current_max - 1)\n",
    "\n",
    "    return water_levels\n",
    "find_water_levels([3, 5, 4, 5, 2])"
   ]
  },
  {
   "cell_type": "code",
   "execution_count": 378,
   "metadata": {},
   "outputs": [
    {
     "data": {
      "text/plain": [
       "[1, 1, 1, 1, 1, 0, 0]"
      ]
     },
     "execution_count": 378,
     "metadata": {},
     "output_type": "execute_result"
    }
   ],
   "source": [
    "#4 \n",
    "def find_suspects_level(n, room_order):\n",
    "    levels = [0] * (n + 2)\n",
    "    for i in range(n):\n",
    "        curr_room = room_order[i]  \n",
    "        if levels[curr_room - 1] == 0: \n",
    "            levels[curr_room - 1] = 1  \n",
    "        else:\n",
    "            \n",
    "            j = curr_room - 2  \n",
    "            while j >= 0 and levels[j] >= levels[j + 1]:\n",
    "                levels[j] = levels[j + 1] + 1\n",
    "                j -= 1\n",
    "    \n",
    "    return levels\n",
    "find_suspects_level(5, [ 5, 4, 1, 3, 2 ])"
   ]
  },
  {
   "cell_type": "code",
   "execution_count": 784,
   "metadata": {},
   "outputs": [
    {
     "name": "stdout",
     "output_type": "stream",
     "text": [
      "[1, 2, 0, 2, 0]\n"
     ]
    }
   ],
   "source": [
    "#MIW 4\n",
    "def find_suspicious_levels(n, room_sequence):\n",
    "    level_array = [0] * (n + 2)\n",
    "    ans_array = [0]*n\n",
    "\n",
    "    for i in range(len(room_sequence)):\n",
    "        index = room_sequence.index(i+1)\n",
    "        if level_array[index +1] == 0:\n",
    "            ans_array[index] = 0\n",
    "        if level_array[index +1] != 0:\n",
    "            ans_array[index] = 1\n",
    "        if level_array[index +1] != 0 and 0 in level_array[1:len(level_array)-1]:\n",
    "            ans_array[index] = 2\n",
    "            \n",
    "            \n",
    "        if level_array[index] != 'x': \n",
    "            level_array[index]=1\n",
    "        level_array[index+1]='x'\n",
    "        if level_array[index+2] != 'x': \n",
    "            level_array[index+2]=1\n",
    "        \n",
    "\n",
    "    return ans_array\n",
    "\n",
    "print(find_suspicious_levels(5, [5, 4, 1, 3, 2]))\n",
    "#(5,[3,5,4,2,1])"
   ]
  },
  {
   "cell_type": "code",
   "execution_count": 780,
   "metadata": {},
   "outputs": [
    {
     "name": "stdout",
     "output_type": "stream",
     "text": [
      "[1, 2, 0, 2, 0]\n"
     ]
    }
   ],
   "source": [
    "#4\n",
    "def find_suspicious_levels(n, room_sequence):\n",
    "    level_array = [0] * (n + 2)\n",
    "    ans_array = [0] * n\n",
    "\n",
    "    for i in range(len(room_sequence)):\n",
    "        index = room_sequence.index(i+1)\n",
    "        if level_array[index +1] == 0:\n",
    "            ans_array[index] = 0\n",
    "        if level_array[index +1] != 0:\n",
    "            ans_array[index] = 1\n",
    "            \n",
    "        if level_array[index +1] != 0 and any(x == 0 for x in level_array[1:len(level_array)-1]):\n",
    "            ans_array[index] = 2\n",
    "\n",
    "        if level_array[index] != 'x': \n",
    "            level_array[index] = 1\n",
    "        level_array[index + 1] = 'x'\n",
    "        if level_array[index+2] != 'x':\n",
    "            level_array[index + 2] = 1\n",
    "\n",
    "    return ans_array\n",
    "\n",
    "\n",
    "print(find_suspicious_levels(5, [5, 4, 1, 3, 2]))"
   ]
  },
  {
   "cell_type": "code",
   "execution_count": 783,
   "metadata": {},
   "outputs": [
    {
     "name": "stdout",
     "output_type": "stream",
     "text": [
      "['f@gm.c']\n"
     ]
    }
   ],
   "source": [
    "import re\n",
    "txt = \"f@gm.c\"\n",
    "x = re.findall(\"\\S+@\\S+\\.\\S+\", txt)\n",
    "print(x)"
   ]
  },
  {
   "cell_type": "code",
   "execution_count": 799,
   "metadata": {},
   "outputs": [
    {
     "name": "stdout",
     "output_type": "stream",
     "text": [
      "x xxxx\n",
      "xx xxx\n",
      "xxx xx\n",
      "xxxx x\n",
      "xxxxx \n"
     ]
    }
   ],
   "source": [
    "def print_pattern(n):\n",
    "    for i in range(1, n +1):\n",
    "        print('x' * i + ' ' + 'x' * (n - i))\n",
    "print_pattern(5)"
   ]
  },
  {
   "cell_type": "code",
   "execution_count": 9,
   "metadata": {},
   "outputs": [
    {
     "name": "stdout",
     "output_type": "stream",
     "text": [
      "x\n",
      "xx\n",
      "x x\n",
      "x  x\n",
      "xxxxx\n"
     ]
    }
   ],
   "source": [
    "def print_pattern(n):\n",
    "    for i in range(1, n + 1):\n",
    "        if i == 1 or i == n:\n",
    "            print('x' * i)\n",
    "        else:\n",
    "            print('x' + ' ' * (i - 2) + 'x')\n",
    "\n",
    "print_pattern(5)"
   ]
  },
  {
   "cell_type": "code",
   "execution_count": 23,
   "metadata": {},
   "outputs": [
    {
     "name": "stdout",
     "output_type": "stream",
     "text": [
      "x\n",
      "xx\n",
      "x  x\n",
      "x x\n",
      "xx\n"
     ]
    }
   ],
   "source": [
    "def print_pattern(n):\n",
    "    for i in range(1, n + 1):\n",
    "        if i <= n // 2:\n",
    "            print('x' * i)\n",
    "        else:\n",
    "            print('x' + ' ' * (n - i) + 'x')\n",
    "\n",
    "print_pattern(5)"
   ]
  },
  {
   "cell_type": "code",
   "execution_count": 24,
   "metadata": {},
   "outputs": [
    {
     "name": "stdout",
     "output_type": "stream",
     "text": [
      "x   x\n",
      "xx x\n",
      "xxxx\n",
      "xx  x\n",
      "x    x\n"
     ]
    }
   ],
   "source": [
    "def print_pattern(n):\n",
    "    for i in range(1, n + 1):\n",
    "        if i <= n // 2:\n",
    "            print('x' * i + ' ' * (n - 2 * i) + 'x')\n",
    "        else:\n",
    "            print('x' * (n - i + 1) + ' ' * (2 * i - n - 1) + 'x')\n",
    "\n",
    "print_pattern(5)"
   ]
  },
  {
   "cell_type": "code",
   "execution_count": null,
   "metadata": {},
   "outputs": [],
   "source": []
  },
  {
   "cell_type": "code",
   "execution_count": null,
   "metadata": {},
   "outputs": [],
   "source": []
  },
  {
   "cell_type": "code",
   "execution_count": null,
   "metadata": {},
   "outputs": [],
   "source": []
  },
  {
   "cell_type": "code",
   "execution_count": null,
   "metadata": {},
   "outputs": [],
   "source": []
  },
  {
   "cell_type": "code",
   "execution_count": null,
   "metadata": {},
   "outputs": [],
   "source": []
  },
  {
   "cell_type": "code",
   "execution_count": null,
   "metadata": {},
   "outputs": [],
   "source": []
  },
  {
   "cell_type": "code",
   "execution_count": null,
   "metadata": {},
   "outputs": [],
   "source": []
  },
  {
   "cell_type": "code",
   "execution_count": null,
   "metadata": {},
   "outputs": [],
   "source": []
  },
  {
   "cell_type": "code",
   "execution_count": null,
   "metadata": {},
   "outputs": [],
   "source": []
  },
  {
   "cell_type": "code",
   "execution_count": null,
   "metadata": {},
   "outputs": [],
   "source": []
  },
  {
   "cell_type": "code",
   "execution_count": null,
   "metadata": {},
   "outputs": [],
   "source": []
  },
  {
   "cell_type": "code",
   "execution_count": null,
   "metadata": {},
   "outputs": [],
   "source": []
  },
  {
   "cell_type": "code",
   "execution_count": null,
   "metadata": {},
   "outputs": [],
   "source": []
  }
 ],
 "metadata": {
  "kernelspec": {
   "display_name": "python36",
   "language": "python",
   "name": "python36"
  },
  "language_info": {
   "codemirror_mode": {
    "name": "ipython",
    "version": 3
   },
   "file_extension": ".py",
   "mimetype": "text/x-python",
   "name": "python",
   "nbconvert_exporter": "python",
   "pygments_lexer": "ipython3",
   "version": "3.6.10"
  }
 },
 "nbformat": 4,
 "nbformat_minor": 4
}
